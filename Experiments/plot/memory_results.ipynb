{
 "cells": [
  {
   "cell_type": "code",
   "execution_count": 72,
   "metadata": {},
   "outputs": [
    {
     "name": "stdout",
     "output_type": "stream",
     "text": [
      "Defaulting to user installation because normal site-packages is not writeable\n",
      "Requirement already satisfied: pandas in /home/saeed/.local/lib/python3.10/site-packages (1.5.0)\n",
      "Requirement already satisfied: pytz>=2020.1 in /usr/local/lib/python3.10/dist-packages (from pandas) (2021.3)\n",
      "Requirement already satisfied: python-dateutil>=2.8.1 in /home/saeed/.local/lib/python3.10/site-packages (from pandas) (2.8.2)\n",
      "Requirement already satisfied: numpy>=1.21.0 in /home/saeed/.local/lib/python3.10/site-packages (from pandas) (1.23.4)\n",
      "Requirement already satisfied: six>=1.5 in /usr/lib/python3/dist-packages (from python-dateutil>=2.8.1->pandas) (1.16.0)\n",
      "Note: you may need to restart the kernel to use updated packages.\n",
      "Defaulting to user installation because normal site-packages is not writeable\n",
      "Requirement already satisfied: numpy in /home/saeed/.local/lib/python3.10/site-packages (1.23.4)\n",
      "Note: you may need to restart the kernel to use updated packages.\n",
      "Defaulting to user installation because normal site-packages is not writeable\n",
      "Requirement already satisfied: scipy in /home/saeed/.local/lib/python3.10/site-packages (1.9.2)\n",
      "Requirement already satisfied: numpy<1.26.0,>=1.18.5 in /home/saeed/.local/lib/python3.10/site-packages (from scipy) (1.23.4)\n",
      "Note: you may need to restart the kernel to use updated packages.\n"
     ]
    }
   ],
   "source": [
    "%pip install pandas\n",
    "%pip install numpy\n",
    "%pip install scipy\n",
    "\n",
    "import pandas as pd\n",
    "import sys\n",
    "import os\n",
    "import string\n",
    "import numpy as np\n",
    "import scipy.stats as stats\n",
    "import re"
   ]
  },
  {
   "cell_type": "code",
   "execution_count": 73,
   "metadata": {},
   "outputs": [],
   "source": [
    "def atoi(text):\n",
    "    return int(text) if text.isdigit() else text\n",
    "\n",
    "def natural_keys(text):    \n",
    "    return [ atoi(c) for c in re.split(r'(\\d+)', text) ]"
   ]
  },
  {
   "cell_type": "code",
   "execution_count": 74,
   "metadata": {},
   "outputs": [],
   "source": [
    "def results():\n",
    "    root_path = '../archive/memory/Experiment4_Memory_'    \n",
    "\n",
    "    # baselines = [\"DefaultJava\",\"Json+GzipJava\",\"BsonJava\",\"ProtoBufJava\",\"KryoJava\",\"ByteBufferJava\",\"JsonJava\",\"FlatBuffersJava\",\n",
    "    #             \"HandcodedCPP\",\"inPlaceCPP\",\"BoostCPP\", \"BoostBinaryCPP\",\"ProtoBufCPP\",\"BsonCPP\",\"FlatBufCPP\",\n",
    "    #             \"JsonRust\",\"BincodeRust\",\"MessagePackRust\",\"BsonRust\",\"FlexBufRust\"]    \n",
    "    baselines = [\"HandcodedCPP\",\"inPlaceCPP\",\"BoostCPP\", \"BoostBinaryCPP\",\"ProtoBufCPP\",\"BsonCPP\",\"FlatBufCPP\"]    \n",
    "\n",
    "\n",
    "    results = []\n",
    "\n",
    "    for baseline in baselines:\n",
    "        file_name=f'{root_path}{baseline}_times.csv'\n",
    "        data = pd.read_csv( file_name, sep=',', names=[\"timestamp\",\"total_memory\",\"consumed_memory\"], header=None)        \n",
    "        max_consume = max(data[\"consumed_memory\"]) / 1024   \n",
    "        language = ''\n",
    "        if 'CPP' in baseline:\n",
    "            language = 'CPP'\n",
    "        elif 'Rust' in baseline:\n",
    "            language = 'Rust'\n",
    "        elif 'Java' in baseline:\n",
    "            language = 'Java'        \n",
    "        result = [baseline, language,f'{max_consume:.2f}']\n",
    "        results.append(result)\n",
    "\n",
    "    df = pd.DataFrame(results, columns =['baseline', 'language', 'memory'])\n",
    "    df.to_csv(\"results/Exp6_read_memory.dat\", index=False)          \n",
    "         "
   ]
  },
  {
   "cell_type": "code",
   "execution_count": 75,
   "metadata": {},
   "outputs": [],
   "source": [
    "results()"
   ]
  }
 ],
 "metadata": {
  "kernelspec": {
   "display_name": "Python 3.8.10 64-bit",
   "language": "python",
   "name": "python3"
  },
  "language_info": {
   "codemirror_mode": {
    "name": "ipython",
    "version": 3
   },
   "file_extension": ".py",
   "mimetype": "text/x-python",
   "name": "python",
   "nbconvert_exporter": "python",
   "pygments_lexer": "ipython3",
   "version": "3.10.6"
  },
  "orig_nbformat": 4,
  "vscode": {
   "interpreter": {
    "hash": "916dbcbb3f70747c44a77c7bcd40155683ae19c65e1c03b4aa3499c5328201f1"
   }
  }
 },
 "nbformat": 4,
 "nbformat_minor": 2
}
