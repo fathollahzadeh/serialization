{
 "cells": [
  {
   "cell_type": "code",
   "execution_count": 1,
   "metadata": {},
   "outputs": [],
   "source": [
    "import pandas as pd\n",
    "import sys\n",
    "import os\n",
    "import string\n",
    "import numpy as np\n",
    "import scipy.stats as stats\n",
    "import re"
   ]
  },
  {
   "cell_type": "code",
   "execution_count": 2,
   "metadata": {},
   "outputs": [],
   "source": [
    "def atoi(text):\n",
    "    return int(text) if text.isdigit() else text\n",
    "\n",
    "def natural_keys(text):    \n",
    "    return [ atoi(c) for c in re.split(r'(\\d+)', text) ]"
   ]
  },
  {
   "cell_type": "code",
   "execution_count": 3,
   "metadata": {},
   "outputs": [],
   "source": [
    "def calc_mean(list):\n",
    "    if len(list) == 1:\n",
    "        return list[0]\n",
    "    else:    \n",
    "        mean = np.mean(list)\n",
    "        std = np.std(list)\n",
    "        normal_list = []\n",
    "        for l in list:\n",
    "            z = (l-mean)/std\n",
    "            if z <= 0.8 and z>= -1:\n",
    "                normal_list.append(l)\n",
    "        avg_value = np.mean(normal_list) # /1000 convert milisecond to second   \n",
    "        return avg_value "
   ]
  },
  {
   "cell_type": "code",
   "execution_count": 10,
   "metadata": {},
   "outputs": [],
   "source": [
    "def results():\n",
    "    root_path = '../archive'\n",
    "    write_results = [f'{root_path}/read_write/CPP_R13_Experiment1_Write_times.dat', \n",
    "                     f'{root_path}/read_write/Java_R1_Experiment1_Write_times.dat',\n",
    "                     f'{root_path}/read_write/Java_R2_Experiment1_Write_times.dat',\n",
    "                     f'{root_path}/read_write/Java_R3_Experiment1_Write_times.dat']\n",
    "   \n",
    "    load_to_memory_results = [f'{root_path}/read_write/CPP_R13_Experiment1_LoadToMemory_times.dat',\n",
    "                              f'{root_path}/read_write/Java_R1_Experiment1_LoadToMemory_times.dat',\n",
    "                              f'{root_path}/read_write/Java_R2_Experiment1_LoadToMemory_times.dat',\n",
    "                              f'{root_path}/read_write/Java_R3_Experiment1_LoadToMemory_times.dat']\n",
    "   \n",
    "    write_header = [\"baseline\",\"language\",\"taskset\",\"execution\",\"platform\",\"seq_rand\",\"nrow\",\"time\"]\n",
    "   \n",
    "    load_to_memory_header = [\"language\",\"platform\",\"taskset\",\"nrow\",\"time\"]\n",
    "\n",
    "    df_write = pd.DataFrame(columns=write_header)\n",
    "    df_load_to_memory = pd.DataFrame(columns=load_to_memory_header)\n",
    "\n",
    "    base_index = 0\n",
    "    for path in write_results:        \n",
    "        data = pd.read_csv( path, sep=',')\n",
    "        df_index = [range(base_index, 20, 1)]\n",
    "        # print(data)\n",
    "\n",
    "\n",
    "   "
   ]
  },
  {
   "cell_type": "code",
   "execution_count": 11,
   "metadata": {},
   "outputs": [
    {
     "name": "stdout",
     "output_type": "stream",
     "text": [
      "../archive/read_write/CPP_R13_Experiment1_Write_times.dat\n",
      "../archive/read_write/Java_R1_Experiment1_Write_times.dat\n",
      "../archive/read_write/Java_R2_Experiment1_Write_times.dat\n",
      "../archive/read_write/Java_R3_Experiment1_Write_times.dat\n"
     ]
    }
   ],
   "source": [
    "results()"
   ]
  }
 ],
 "metadata": {
  "kernelspec": {
   "display_name": "Python 3.8.10 64-bit",
   "language": "python",
   "name": "python3"
  },
  "language_info": {
   "codemirror_mode": {
    "name": "ipython",
    "version": 3
   },
   "file_extension": ".py",
   "mimetype": "text/x-python",
   "name": "python",
   "nbconvert_exporter": "python",
   "pygments_lexer": "ipython3",
   "version": "3.8.10"
  },
  "orig_nbformat": 4,
  "vscode": {
   "interpreter": {
    "hash": "916dbcbb3f70747c44a77c7bcd40155683ae19c65e1c03b4aa3499c5328201f1"
   }
  }
 },
 "nbformat": 4,
 "nbformat_minor": 2
}
